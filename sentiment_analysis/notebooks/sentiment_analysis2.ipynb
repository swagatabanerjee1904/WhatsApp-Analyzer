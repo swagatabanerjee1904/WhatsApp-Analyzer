{
 "cells": [
  {
   "cell_type": "code",
   "execution_count": 4,
   "metadata": {},
   "outputs": [],
   "source": [
    "import pandas as pd\n",
    "import numpy as np\n",
    "import matplotlib.pyplot as plt\n",
    "import seaborn as sns\n",
    "from sklearn.model_selection import train_test_split\n",
    "from sklearn.preprocessing import LabelEncoder\n",
    "from keras.models import Model\n",
    "from keras.layers import LSTM, Activation, Dense, Dropout, Input, Embedding\n",
    "from keras.optimizers import RMSprop\n",
    "from keras.preprocessing.text import Tokenizer\n",
    "from keras.preprocessing import sequence\n",
    "from keras.utils import to_categorical\n",
    "from keras.callbacks import EarlyStopping\n",
    "%matplotlib inline"
   ]
  },
  {
   "cell_type": "code",
   "execution_count": 5,
   "metadata": {},
   "outputs": [],
   "source": [
    "data1 = pd.read_csv(\"E:\\WhatsappAnalyzer\\dataset\\Emotion(happy).csv\")\n",
    "data2 = pd.read_csv(\"E:\\WhatsappAnalyzer\\dataset\\Emotion(sad).csv\")\n",
    "data3 = pd.read_csv(\"E:\\WhatsappAnalyzer\\dataset\\Emotion(angry).csv\")"
   ]
  },
  {
   "cell_type": "code",
   "execution_count": 7,
   "metadata": {},
   "outputs": [
    {
     "data": {
      "text/html": [
       "<div>\n",
       "<style scoped>\n",
       "    .dataframe tbody tr th:only-of-type {\n",
       "        vertical-align: middle;\n",
       "    }\n",
       "\n",
       "    .dataframe tbody tr th {\n",
       "        vertical-align: top;\n",
       "    }\n",
       "\n",
       "    .dataframe thead th {\n",
       "        text-align: right;\n",
       "    }\n",
       "</style>\n",
       "<table border=\"1\" class=\"dataframe\">\n",
       "  <thead>\n",
       "    <tr style=\"text-align: right;\">\n",
       "      <th></th>\n",
       "      <th>content</th>\n",
       "      <th>sentiment</th>\n",
       "    </tr>\n",
       "  </thead>\n",
       "  <tbody>\n",
       "    <tr>\n",
       "      <th>0</th>\n",
       "      <td>Wants to know how the hell I can remember word...</td>\n",
       "      <td>happy</td>\n",
       "    </tr>\n",
       "    <tr>\n",
       "      <th>1</th>\n",
       "      <td>Love is a long sweet dream &amp; marriage is an al...</td>\n",
       "      <td>happy</td>\n",
       "    </tr>\n",
       "    <tr>\n",
       "      <th>2</th>\n",
       "      <td>The world could be amazing when you are slight...</td>\n",
       "      <td>happy</td>\n",
       "    </tr>\n",
       "    <tr>\n",
       "      <th>3</th>\n",
       "      <td>My secret talent is getting tired without doin...</td>\n",
       "      <td>happy</td>\n",
       "    </tr>\n",
       "    <tr>\n",
       "      <th>4</th>\n",
       "      <td>Khatarnaak Whatsapp Status Ever… Can\\’t talk, ...</td>\n",
       "      <td>happy</td>\n",
       "    </tr>\n",
       "  </tbody>\n",
       "</table>\n",
       "</div>"
      ],
      "text/plain": [
       "                                             content sentiment\n",
       "0  Wants to know how the hell I can remember word...     happy\n",
       "1  Love is a long sweet dream & marriage is an al...     happy\n",
       "2  The world could be amazing when you are slight...     happy\n",
       "3  My secret talent is getting tired without doin...     happy\n",
       "4  Khatarnaak Whatsapp Status Ever… Can\\’t talk, ...     happy"
      ]
     },
     "execution_count": 7,
     "metadata": {},
     "output_type": "execute_result"
    }
   ],
   "source": [
    "data = pd.concat([data1, data2, data3], ignore_index=True)\n",
    "data.head()"
   ]
  },
  {
   "cell_type": "code",
   "execution_count": 8,
   "metadata": {},
   "outputs": [
    {
     "name": "stderr",
     "output_type": "stream",
     "text": [
      "e:\\WhatsappAnalyzer\\venv\\lib\\site-packages\\seaborn\\_oldcore.py:1498: FutureWarning: is_categorical_dtype is deprecated and will be removed in a future version. Use isinstance(dtype, CategoricalDtype) instead\n",
      "  if pd.api.types.is_categorical_dtype(vector):\n",
      "e:\\WhatsappAnalyzer\\venv\\lib\\site-packages\\seaborn\\_oldcore.py:1498: FutureWarning: is_categorical_dtype is deprecated and will be removed in a future version. Use isinstance(dtype, CategoricalDtype) instead\n",
      "  if pd.api.types.is_categorical_dtype(vector):\n",
      "e:\\WhatsappAnalyzer\\venv\\lib\\site-packages\\seaborn\\_oldcore.py:1498: FutureWarning: is_categorical_dtype is deprecated and will be removed in a future version. Use isinstance(dtype, CategoricalDtype) instead\n",
      "  if pd.api.types.is_categorical_dtype(vector):\n"
     ]
    },
    {
     "data": {
      "text/plain": [
       "<Axes: xlabel='sentiment', ylabel='count'>"
      ]
     },
     "execution_count": 8,
     "metadata": {},
     "output_type": "execute_result"
    },
    {
     "data": {
      "image/png": "[encoded data removed]",
      "text/plain": [
       "<Figure size 640x480 with 1 Axes>"
      ]
     },
     "metadata": {},
     "output_type": "display_data"
    }
   ],
   "source": [
    "sns.countplot(x='sentiment',data=data)"
   ]
  },
  {
   "cell_type": "code",
   "execution_count": 9,
   "metadata": {},
   "outputs": [],
   "source": [
    "X = data.content\n",
    "Y = data.sentiment\n",
    "le = LabelEncoder()\n",
    "Y = le.fit_transform(Y)\n",
    "Y = Y.reshape(-1,1)"
   ]
  },
  {
   "cell_type": "code",
   "execution_count": 10,
   "metadata": {},
   "outputs": [],
   "source": [
    "X_train,X_test,Y_train,Y_test = train_test_split(X,Y,test_size=0.15)"
   ]
  },
  {
   "cell_type": "code",
   "execution_count": 11,
   "metadata": {},
   "outputs": [],
   "source": [
    "max_words = 1000\n",
    "max_len = 150\n",
    "tok = Tokenizer(num_words=max_words)\n",
    "tok.fit_on_texts(X_train)\n",
    "sequences = tok.texts_to_sequences(X_train)\n",
    "sequences_matrix = sequence.pad_sequences(sequences,maxlen=max_len)"
   ]
  },
  {
   "cell_type": "code",
   "execution_count": 12,
   "metadata": {},
   "outputs": [],
   "source": [
    "def RNN():\n",
    "    inputs = Input(name='inputs',shape=[max_len])\n",
    "    layer = Embedding(max_words,50,input_length=max_len)(inputs)\n",
    "    layer = LSTM(64)(layer)\n",
    "    layer = Dense(256,name='FC1')(layer)\n",
    "    layer = Activation('relu')(layer)\n",
    "    layer = Dropout(0.5)(layer)\n",
    "    layer = Dense(3,name='out_layer')(layer)\n",
    "    layer = Activation('softmax')(layer)\n",
    "    model = Model(inputs=inputs,outputs=layer)\n",
    "    return model"
   ]
  },
  {
   "cell_type": "code",
   "execution_count": 13,
   "metadata": {},
   "outputs": [
    {
     "name": "stdout",
     "output_type": "stream",
     "text": [
      "Model: \"model\"\n",
      "_________________________________________________________________\n",
      " Layer (type)                Output Shape              Param #   \n",
      "=================================================================\n",
      " inputs (InputLayer)         [(None, 150)]             0         \n",
      "                                                                 \n",
      " embedding (Embedding)       (None, 150, 50)           50000     \n",
      "                                                                 \n",
      " lstm (LSTM)                 (None, 64)                29440     \n",
      "                                                                 \n",
      " FC1 (Dense)                 (None, 256)               16640     \n",
      "                                                                 \n",
      " activation (Activation)     (None, 256)               0         \n",
      "                                                                 \n",
      " dropout (Dropout)           (None, 256)               0         \n",
      "                                                                 \n",
      " out_layer (Dense)           (None, 3)                 771       \n",
      "                                                                 \n",
      " activation_1 (Activation)   (None, 3)                 0         \n",
      "                                                                 \n",
      "=================================================================\n",
      "Total params: 96851 (378.32 KB)\n",
      "Trainable params: 96851 (378.32 KB)\n",
      "Non-trainable params: 0 (0.00 Byte)\n",
      "_________________________________________________________________\n"
     ]
    }
   ],
   "source": [
    "model = RNN()\n",
    "model.summary()\n",
    "model.compile(loss='sparse_categorical_crossentropy',optimizer=RMSprop(),metrics=['accuracy'])"
   ]
  },
  {
   "cell_type": "code",
   "execution_count": 14,
   "metadata": {},
   "outputs": [
    {
     "name": "stdout",
     "output_type": "stream",
     "text": [
      "Epoch 1/20\n",
      "11/11 [==============================] - 16s 744ms/step - loss: 1.0945 - accuracy: 0.3773 - val_loss: 1.0894 - val_accuracy: 0.4524\n",
      "Epoch 2/20\n",
      "11/11 [==============================] - 4s 369ms/step - loss: 1.0759 - accuracy: 0.4971 - val_loss: 1.0624 - val_accuracy: 0.4611\n",
      "Epoch 3/20\n",
      "11/11 [==============================] - 5s 422ms/step - loss: 1.0303 - accuracy: 0.5202 - val_loss: 1.0006 - val_accuracy: 0.5216\n",
      "Epoch 4/20\n",
      "11/11 [==============================] - 4s 355ms/step - loss: 0.9431 - accuracy: 0.5707 - val_loss: 0.9198 - val_accuracy: 0.6110\n",
      "Epoch 5/20\n",
      "11/11 [==============================] - 4s 373ms/step - loss: 0.8444 - accuracy: 0.6364 - val_loss: 0.8363 - val_accuracy: 0.6369\n",
      "Epoch 6/20\n",
      "11/11 [==============================] - 6s 526ms/step - loss: 0.7526 - accuracy: 0.6818 - val_loss: 0.7872 - val_accuracy: 0.6830\n",
      "Epoch 7/20\n",
      "11/11 [==============================] - 5s 467ms/step - loss: 0.6340 - accuracy: 0.7540 - val_loss: 0.7604 - val_accuracy: 0.6772\n",
      "Epoch 8/20\n",
      "11/11 [==============================] - 5s 446ms/step - loss: 0.5486 - accuracy: 0.7821 - val_loss: 0.6855 - val_accuracy: 0.7118\n",
      "Epoch 9/20\n",
      "11/11 [==============================] - 4s 406ms/step - loss: 0.4781 - accuracy: 0.8225 - val_loss: 0.6642 - val_accuracy: 0.7118\n",
      "Epoch 10/20\n",
      "11/11 [==============================] - 5s 490ms/step - loss: 0.4041 - accuracy: 0.8499 - val_loss: 0.6814 - val_accuracy: 0.7378\n",
      "Epoch 11/20\n",
      "11/11 [==============================] - 5s 480ms/step - loss: 0.3507 - accuracy: 0.8788 - val_loss: 0.7190 - val_accuracy: 0.6801\n",
      "Epoch 12/20\n",
      "11/11 [==============================] - 6s 518ms/step - loss: 0.3242 - accuracy: 0.8802 - val_loss: 0.7003 - val_accuracy: 0.7349\n",
      "Epoch 13/20\n",
      "11/11 [==============================] - 6s 511ms/step - loss: 0.2892 - accuracy: 0.8961 - val_loss: 0.6714 - val_accuracy: 0.7493\n",
      "Epoch 14/20\n",
      "11/11 [==============================] - 6s 536ms/step - loss: 0.2524 - accuracy: 0.9170 - val_loss: 0.6973 - val_accuracy: 0.7493\n",
      "Epoch 15/20\n",
      "11/11 [==============================] - 5s 449ms/step - loss: 0.2310 - accuracy: 0.9271 - val_loss: 0.7923 - val_accuracy: 0.7032\n",
      "Epoch 16/20\n",
      "11/11 [==============================] - 5s 443ms/step - loss: 0.2178 - accuracy: 0.9343 - val_loss: 0.8039 - val_accuracy: 0.7061\n",
      "Epoch 17/20\n",
      "11/11 [==============================] - 5s 442ms/step - loss: 0.1841 - accuracy: 0.9387 - val_loss: 0.8777 - val_accuracy: 0.7262\n",
      "Epoch 18/20\n",
      "11/11 [==============================] - 4s 393ms/step - loss: 0.1820 - accuracy: 0.9473 - val_loss: 0.9549 - val_accuracy: 0.7147\n",
      "Epoch 19/20\n",
      "11/11 [==============================] - 6s 531ms/step - loss: 0.1550 - accuracy: 0.9560 - val_loss: 0.9795 - val_accuracy: 0.7378\n",
      "Epoch 20/20\n",
      "11/11 [==============================] - 6s 538ms/step - loss: 0.1448 - accuracy: 0.9545 - val_loss: 0.9409 - val_accuracy: 0.7291\n"
     ]
    },
    {
     "data": {
      "text/plain": [
       "<keras.src.callbacks.History at 0x2055eea3730>"
      ]
     },
     "execution_count": 14,
     "metadata": {},
     "output_type": "execute_result"
    }
   ],
   "source": [
    "model.fit(sequences_matrix,Y_train,batch_size=128,epochs=20,\n",
    "          validation_split=0.2)"
   ]
  },
  {
   "cell_type": "code",
   "execution_count": 15,
   "metadata": {},
   "outputs": [],
   "source": [
    "test_sequences = tok.texts_to_sequences(X_test)\n",
    "test_sequences_matrix = sequence.pad_sequences(test_sequences,maxlen=max_len)"
   ]
  },
  {
   "cell_type": "code",
   "execution_count": 16,
   "metadata": {},
   "outputs": [
    {
     "name": "stdout",
     "output_type": "stream",
     "text": [
      "10/10 [==============================] - 1s 51ms/step - loss: 1.1335 - accuracy: 0.7059\n"
     ]
    }
   ],
   "source": [
    "accr = model.evaluate(test_sequences_matrix,Y_test)"
   ]
  },
  {
   "cell_type": "code",
   "execution_count": 17,
   "metadata": {},
   "outputs": [
    {
     "name": "stdout",
     "output_type": "stream",
     "text": [
      "Test set\n",
      "  Loss: 1.134\n",
      "  Accuracy: 0.706\n"
     ]
    }
   ],
   "source": [
    "print('Test set\\n  Loss: {:0.3f}\\n  Accuracy: {:0.3f}'.format(accr[0],accr[1]))"
   ]
  },
  {
   "cell_type": "code",
   "execution_count": 18,
   "metadata": {},
   "outputs": [],
   "source": [
    "test_sequences = tok.texts_to_sequences(X_test)\n",
    "test_sequences_matrix = sequence.pad_sequences(test_sequences,maxlen=max_len)"
   ]
  },
  {
   "cell_type": "code",
   "execution_count": 19,
   "metadata": {},
   "outputs": [
    {
     "name": "stdout",
     "output_type": "stream",
     "text": [
      "10/10 [==============================] - 1s 54ms/step - loss: 1.1335 - accuracy: 0.7059\n"
     ]
    }
   ],
   "source": [
    "accr = model.evaluate(test_sequences_matrix,Y_test)"
   ]
  },
  {
   "cell_type": "code",
   "execution_count": 20,
   "metadata": {},
   "outputs": [
    {
     "name": "stderr",
     "output_type": "stream",
     "text": [
      "e:\\WhatsappAnalyzer\\venv\\lib\\site-packages\\keras\\src\\engine\\training.py:3000: UserWarning: You are saving your model as an HDF5 file via `model.save()`. This file format is considered legacy. We recommend using instead the native Keras format, e.g. `model.save('my_model.keras')`.\n",
      "  saving_api.save_model(\n"
     ]
    }
   ],
   "source": [
    "from tensorflow import keras\n",
    "\n",
    "# Save model\n",
    "model.save('my_model.h5')\n",
    "\n",
    "# Load model\n",
    "loaded_model = keras.models.load_model('my_model.h5')"
   ]
  },
  {
   "cell_type": "code",
   "execution_count": 21,
   "metadata": {},
   "outputs": [],
   "source": [
    "loaded_model = keras.models.load_model('my_model.h5')"
   ]
  },
  {
   "cell_type": "code",
   "execution_count": 22,
   "metadata": {},
   "outputs": [
    {
     "data": {
      "text/plain": [
       "<keras.src.engine.functional.Functional at 0x2056504ad00>"
      ]
     },
     "execution_count": 22,
     "metadata": {},
     "output_type": "execute_result"
    }
   ],
   "source": [
    "loaded_model"
   ]
  },
  {
   "cell_type": "code",
   "execution_count": null,
   "metadata": {},
   "outputs": [],
   "source": []
  }
 ],
 "metadata": {
  "kernelspec": {
   "display_name": "Python 3",
   "language": "python",
   "name": "python3"
  },
  "language_info": {
   "codemirror_mode": {
    "name": "ipython",
    "version": 3
   },
   "file_extension": ".py",
   "mimetype": "text/x-python",
   "name": "python",
   "nbconvert_exporter": "python",
   "pygments_lexer": "ipython3",
   "version": "3.9.18"
  },
  "orig_nbformat": 4
 },
 "nbformat": 4,
 "nbformat_minor": 2
}
